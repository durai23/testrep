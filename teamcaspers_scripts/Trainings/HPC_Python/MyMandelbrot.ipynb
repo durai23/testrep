{
 "cells": [
  {
   "cell_type": "code",
   "execution_count": 1,
   "metadata": {
    "collapsed": false
   },
   "outputs": [
    {
     "name": "stdout",
     "output_type": "stream",
     "text": [
      "Populating the interactive namespace from numpy and matplotlib\n"
     ]
    }
   ],
   "source": [
    "%pylab inline"
   ]
  },
  {
   "cell_type": "code",
   "execution_count": 2,
   "metadata": {
    "collapsed": true
   },
   "outputs": [],
   "source": [
    "import numpy as np"
   ]
  },
  {
   "cell_type": "code",
   "execution_count": 3,
   "metadata": {
    "collapsed": true
   },
   "outputs": [],
   "source": [
    "xmin = -2.2\n",
    "ymin = -1.6\n",
    "\n",
    "xmax= 1.6\n",
    "ymax = 1.6\n",
    "\n",
    "xstep = 1920\n",
    "ystep = 1200\n",
    "\n",
    "dx = (xmax - xmin) / xstep\n",
    "dy = (ymax - ymin) / ystep\n",
    "\n",
    "max_iteration = 200"
   ]
  },
  {
   "cell_type": "code",
   "execution_count": 4,
   "metadata": {
    "collapsed": true
   },
   "outputs": [],
   "source": [
    "# escape = [[0 for i in range(xstep)] for j in range(ystep)]"
   ]
  },
  {
   "cell_type": "code",
   "execution_count": 13,
   "metadata": {
    "collapsed": true
   },
   "outputs": [],
   "source": [
    "def mandelbrot_simple(xmin, ymin, xstep, ystep, dx, dy):\n",
    "    escape = np.zeros((ystep, xstep), dtype=np.int16)\n",
    "    for j in range(ystep):\n",
    "        for i in range(xstep):\n",
    "            c = complex((xmin + i * dx),  (ymin + j * dy))\n",
    "            z = c\n",
    "            for k in range(1, max_iteration):\n",
    "                if abs(z) > 2:\n",
    "                    escape[j, i] = k\n",
    "                    break\n",
    "                z = z * z + c\n",
    "    return escape"
   ]
  },
  {
   "cell_type": "code",
   "execution_count": 14,
   "metadata": {
    "collapsed": false
   },
   "outputs": [
    {
     "name": "stdout",
     "output_type": "stream",
     "text": [
      "1 loop, best of 3: 17.1 s per loop\n"
     ]
    }
   ],
   "source": [
    "%timeit mandelbrot_simple(xmin, ymin, xstep, ystep, dx, dy)"
   ]
  },
  {
   "cell_type": "code",
   "execution_count": 15,
   "metadata": {
    "collapsed": true
   },
   "outputs": [],
   "source": [
    "from numba import jit\n",
    "mandelbrot_simple_numba = jit(mandelbrot_simple)"
   ]
  },
  {
   "cell_type": "code",
   "execution_count": 16,
   "metadata": {
    "collapsed": false
   },
   "outputs": [
    {
     "name": "stdout",
     "output_type": "stream",
     "text": [
      "1 loop, best of 3: 377 ms per loop\n"
     ]
    }
   ],
   "source": [
    "%timeit -n 1 mandelbrot_simple_numba(xmin, ymin, xstep, ystep, dx, dy)"
   ]
  },
  {
   "cell_type": "code",
   "execution_count": 17,
   "metadata": {
    "collapsed": false
   },
   "outputs": [
    {
     "name": "stdout",
     "output_type": "stream",
     "text": [
      "1 loop, best of 3: 373 ms per loop\n"
     ]
    }
   ],
   "source": [
    " %timeit mandelbrot_simple_numba(xmin, ymin, xstep, ystep, dx, dy)"
   ]
  },
  {
   "cell_type": "code",
   "execution_count": 18,
   "metadata": {
    "collapsed": false
   },
   "outputs": [],
   "source": [
    " escape = mandelbrot_simple_numba(xmin, ymin, xstep, ystep, dx, dy)"
   ]
  },
  {
   "cell_type": "code",
   "execution_count": 19,
   "metadata": {
    "collapsed": false
   },
   "outputs": [],
   "source": [
    "plt.imsave(fname='mandelbrot.png', arr=escape)"
   ]
  },
  {
   "cell_type": "code",
   "execution_count": 20,
   "metadata": {
    "collapsed": false
   },
   "outputs": [
    {
     "data": {
      "image/png": "[encoded data removed]",
      "text/plain": [
       "<matplotlib.figure.Figure at 0x7fc143aa9a20>"
      ]
     },
     "metadata": {},
     "output_type": "display_data"
    }
   ],
   "source": [
    "_ = plt.imshow(escape, interpolation='nearest')"
   ]
  },
  {
   "cell_type": "code",
   "execution_count": null,
   "metadata": {
    "collapsed": true
   },
   "outputs": [],
   "source": [
    "escape = np.zeros((ystep, xstep)).flatten()"
   ]
  },
  {
   "cell_type": "code",
   "execution_count": null,
   "metadata": {
    "collapsed": false
   },
   "outputs": [],
   "source": [
    "cc = np.ones((ystep, xstep), dtype=complex)\n",
    "for j in range(ystep):\n",
    "    for i in range(xstep):\n",
    "        cc[j][i] = complex((xmin + i * dx), (ymin + j * dy))"
   ]
  },
  {
   "cell_type": "code",
   "execution_count": null,
   "metadata": {
    "collapsed": false
   },
   "outputs": [],
   "source": [
    "for i, c in enumerate(cc.flatten()):\n",
    "    z = c\n",
    "    for k in range(1, max_iteration):\n",
    "        if abs(z) > 2:\n",
    "            escape[i] = k\n",
    "            break\n",
    "        z = z * z + c\n",
    "escape = escape.reshape((ystep, xstep))"
   ]
  },
  {
   "cell_type": "code",
   "execution_count": null,
   "metadata": {
    "collapsed": false
   },
   "outputs": [],
   "source": [
    "_ = plt.imshow(escape, interpolation='nearest')"
   ]
  },
  {
   "cell_type": "code",
   "execution_count": null,
   "metadata": {
    "collapsed": false
   },
   "outputs": [],
   "source": [
    "X, Y = np.mgrid[ymin:ymax:dy, xmin:xmax:dx]\n",
    "cc = Y + X * 1j"
   ]
  },
  {
   "cell_type": "code",
   "execution_count": null,
   "metadata": {
    "collapsed": false
   },
   "outputs": [],
   "source": [
    "z = np.zeros_like(cc, dtype=np.complex)\n",
    "escape = np.zeros_like(cc, dtype=np.int16)\n",
    "mask = np.ones_like(cc, dtype=np.int8)\n",
    "\n",
    "for k in range(max_iteration):\n",
    "    z = z * z + cc\n",
    "    mask = np.abs(z)> 2\n",
    "    escape[mask] = k\n",
    "    z[mask] = complex(0, 0)\n",
    "    cc[mask] = complex(0, 0)\n",
    "    "
   ]
  },
  {
   "cell_type": "code",
   "execution_count": null,
   "metadata": {
    "collapsed": false
   },
   "outputs": [],
   "source": [
    "_ = plt.imshow(escape, interpolation='nearest')"
   ]
  },
  {
   "cell_type": "code",
   "execution_count": null,
   "metadata": {
    "collapsed": true
   },
   "outputs": [],
   "source": []
  }
 ],
 "metadata": {
  "kernelspec": {
   "display_name": "Python 3",
   "language": "python",
   "name": "python3"
  },
  "language_info": {
   "codemirror_mode": {
    "name": "ipython",
    "version": 3
   },
   "file_extension": ".py",
   "mimetype": "text/x-python",
   "name": "python",
   "nbconvert_exporter": "python",
   "pygments_lexer": "ipython3",
   "version": "3.5.1"
  }
 },
 "nbformat": 4,
 "nbformat_minor": 0
}
