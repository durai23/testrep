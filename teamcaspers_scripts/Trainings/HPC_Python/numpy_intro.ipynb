{
 "cells": [
  {
   "cell_type": "markdown",
   "metadata": {
    "slideshow": {
     "slide_type": "slide"
    }
   },
   "source": [
    "# NumPy Intro"
   ]
  },
  {
   "cell_type": "markdown",
   "metadata": {
    "slideshow": {
     "slide_type": "skip"
    }
   },
   "source": [
    "*version 0.2 by ozi & jan*"
   ]
  },
  {
   "cell_type": "markdown",
   "metadata": {
    "slideshow": {
     "slide_type": "notes"
    }
   },
   "source": [
    "Python is an interpreted language and as such it is extremely flexible, allowing to define everything, including code itself, \n",
    "at runtime. This entails that the Python interpreter uses a lot of magic behind the scenes (e.g. type inferencing) to keep things\n",
    "as simple and productive as possible for the programmer. This flexibility comes at the price of a markedly reduced runtime speed \n",
    "compared to compiled languages such as C++.\n",
    "Many problems encoded in Python do not require the full range of flexibility and could easily trade it for improved runtime \n",
    "performance without giving up the development performance which is the key for Python's success."
   ]
  },
  {
   "cell_type": "markdown",
   "metadata": {
    "slideshow": {
     "slide_type": "fragment"
    }
   },
   "source": [
    "NumPy is a library, written in C, to enable fast numerical computing in Python. \n",
    "The main sacrifice to enable this speed is the restriction to \n",
    "containers with uniform memory layout, i.e., arrays that contain items of uniform static datatype."
   ]
  },
  {
   "cell_type": "markdown",
   "metadata": {
    "slideshow": {
     "slide_type": "notes"
    }
   },
   "source": [
    "Despite this apparently severe restriction NumPy is quite versatile and giving a full introduction into NumPy would require a\n",
    "course of its own. Hence we will focus on only few key features and an overview of the available functionality and leave in-depth\n",
    "exploration to the user. The numpy website http://numpy.scipy.org is a good starting point."
   ]
  },
  {
   "cell_type": "markdown",
   "metadata": {
    "slideshow": {
     "slide_type": "fragment"
    }
   },
   "source": [
    "**Note:** NumPy is not a part of the vanilla Python distribution and needs to be installed separately. Then it can be used  like any other Python library:"
   ]
  },
  {
   "cell_type": "code",
   "execution_count": 2,
   "metadata": {
    "collapsed": false,
    "slideshow": {
     "slide_type": "fragment"
    }
   },
   "outputs": [
    {
     "data": {
      "text/plain": [
       "'1.11.0'"
      ]
     },
     "execution_count": 2,
     "metadata": {},
     "output_type": "execute_result"
    }
   ],
   "source": [
    "import numpy as np\n",
    "np.__version__"
   ]
  },
  {
   "cell_type": "markdown",
   "metadata": {
    "slideshow": {
     "slide_type": "slide"
    }
   },
   "source": [
    "## ndarray"
   ]
  },
  {
   "cell_type": "markdown",
   "metadata": {
    "slideshow": {
     "slide_type": "fragment"
    }
   },
   "source": [
    "The main datatype in NumPy is an n-dimensional array object called `ndarray`. By default it has C-array memory layout \n",
    "(last index fastest, 0 based indices) and its item type is `float64`. If the `ndarray` is created from user-specified data the default item type will be the 'minimal' datatype that can hold the data unless explicitely specified otherwise."
   ]
  },
  {
   "cell_type": "markdown",
   "metadata": {
    "slideshow": {
     "slide_type": "fragment"
    }
   },
   "source": [
    "### creation, type"
   ]
  },
  {
   "cell_type": "code",
   "execution_count": 3,
   "metadata": {
    "collapsed": false,
    "slideshow": {
     "slide_type": "fragment"
    }
   },
   "outputs": [
    {
     "name": "stdout",
     "output_type": "stream",
     "text": [
      "int64\n",
      "float64\n",
      "complex128\n",
      "float64\n",
      "bool\n"
     ]
    }
   ],
   "source": [
    "a=np.array([[1,2,3,4],[5,6,7,8]])  # from python list\n",
    "b=np.zeros(5)  # float64 if no dtype given!\n",
    "c=np.arange(10,10+10j) # from generator\n",
    "d=np.linspace(0,2*np.pi, 360) # dto.\n",
    "e=np.ones(10,dtype='bool') # explicit specification\n",
    "for i in [a,b,c,d,e]:\n",
    "    print(i.dtype)"
   ]
  },
  {
   "cell_type": "markdown",
   "metadata": {
    "slideshow": {
     "slide_type": "subslide"
    }
   },
   "source": [
    "### inspection, shape"
   ]
  },
  {
   "cell_type": "markdown",
   "metadata": {
    "slideshow": {
     "slide_type": "fragment"
    }
   },
   "source": [
    "Several meta data of an `ndarray` can be obtained. Try also `a.ndim,a.size,a.nbytes,a.flags,type(a)`.\n",
    "What is the size of a `bool`?"
   ]
  },
  {
   "cell_type": "code",
   "execution_count": 4,
   "metadata": {
    "collapsed": false,
    "slideshow": {
     "slide_type": "fragment"
    }
   },
   "outputs": [
    {
     "name": "stdout",
     "output_type": "stream",
     "text": [
      "[[1 2 3]\n",
      " [4 5 6]]\n",
      "int64\n",
      "8\n",
      "(2, 3)\n",
      "Add a.ndim, ... \n",
      "1\n"
     ]
    }
   ],
   "source": [
    "a=np.array([[1,2,3],[4,5,6]])\n",
    "print(a)  # data\n",
    "print(a.dtype) # data type\n",
    "print(a.itemsize) # element size in bytes\n",
    "print(a.shape) # array dimensions\n",
    "print(\"Add a.ndim, ... \")\n",
    "b = np.array([1], dtype=bool)\n",
    "print(b.nbytes)"
   ]
  },
  {
   "cell_type": "markdown",
   "metadata": {
    "slideshow": {
     "slide_type": "slide"
    }
   },
   "source": [
    "## dtypes"
   ]
  },
  {
   "cell_type": "markdown",
   "metadata": {
    "slideshow": {
     "slide_type": "fragment"
    }
   },
   "source": [
    "I you use large arrays, memory may become an issue. NumPy provides data types in various sizes, choose wisely!"
   ]
  },
  {
   "cell_type": "markdown",
   "metadata": {
    "slideshow": {
     "slide_type": "fragment"
    }
   },
   "source": [
    "**NumPy dtypes**\n",
    "* (long)float, float16...128\n",
    "* (long)complex, complex64...256\n",
    "* (u)int, (u)int8...128\n",
    "* str, unicode\n",
    "* bool (=1byte!)\n",
    "* datetime64,timedelta64\n",
    "* object, void"
   ]
  },
  {
   "cell_type": "markdown",
   "metadata": {
    "slideshow": {
     "slide_type": "subslide"
    }
   },
   "source": [
    "### complex numbers"
   ]
  },
  {
   "cell_type": "markdown",
   "metadata": {
    "slideshow": {
     "slide_type": "fragment"
    }
   },
   "source": [
    "NumPy supports arrays with type complex\n",
    "all `ndarray`s have methods **`real()`** and **`imag()`**\n",
    "* ** `conj()`**  \treturn the complex conjugate, element-wise\n",
    "* **`angle()`** \treturn the angle of the complex argument"
   ]
  },
  {
   "cell_type": "code",
   "execution_count": 5,
   "metadata": {
    "collapsed": false,
    "slideshow": {
     "slide_type": "fragment"
    }
   },
   "outputs": [
    {
     "data": {
      "text/plain": [
       "array([ 1.-1.j,  2.-0.j,  3.+2.j])"
      ]
     },
     "execution_count": 5,
     "metadata": {},
     "output_type": "execute_result"
    }
   ],
   "source": [
    "a = np.array([1+1j, 2, 3-2j])\n",
    "a.conj()"
   ]
  },
  {
   "cell_type": "code",
   "execution_count": 6,
   "metadata": {
    "collapsed": false,
    "slideshow": {
     "slide_type": "skip"
    }
   },
   "outputs": [
    {
     "data": {
      "text/plain": [
       "array([ 45.        ,   0.        , -33.69006753])"
      ]
     },
     "execution_count": 6,
     "metadata": {},
     "output_type": "execute_result"
    }
   ],
   "source": [
    "np.angle(a,deg=1) # default: radian "
   ]
  },
  {
   "cell_type": "markdown",
   "metadata": {
    "slideshow": {
     "slide_type": "slide"
    }
   },
   "source": [
    "### casting"
   ]
  },
  {
   "cell_type": "code",
   "execution_count": 7,
   "metadata": {
    "collapsed": false,
    "slideshow": {
     "slide_type": "fragment"
    }
   },
   "outputs": [
    {
     "data": {
      "text/plain": [
       "array([[-127, -128,  127],\n",
       "       [ -30,  125,  124]], dtype=int8)"
      ]
     },
     "execution_count": 7,
     "metadata": {},
     "output_type": "execute_result"
    }
   ],
   "source": [
    "a=np.array([[129,128,127],[226,125,124.9]],dtype='int8') # type coercion - no warnings, no exceptions!\n",
    "a"
   ]
  },
  {
   "cell_type": "markdown",
   "metadata": {
    "slideshow": {
     "slide_type": "fragment"
    }
   },
   "source": [
    "**type-casting** \n",
    "* `astype()`\n",
    "* `asarray()`\n",
    "\n",
    "**related functions**\n",
    "* `tolist()`\n",
    "* `fromstring()`"
   ]
  },
  {
   "cell_type": "code",
   "execution_count": 8,
   "metadata": {
    "collapsed": false,
    "slideshow": {
     "slide_type": "skip"
    }
   },
   "outputs": [
    {
     "data": {
      "text/plain": [
       "array([[-127.+0.j, -128.+0.j,  127.+0.j],\n",
       "       [ -30.+0.j,  125.+0.j,  124.+0.j]], dtype=complex64)"
      ]
     },
     "execution_count": 8,
     "metadata": {},
     "output_type": "execute_result"
    }
   ],
   "source": [
    "a.astype('complex64')"
   ]
  },
  {
   "cell_type": "code",
   "execution_count": 9,
   "metadata": {
    "collapsed": false,
    "slideshow": {
     "slide_type": "skip"
    }
   },
   "outputs": [
    {
     "data": {
      "text/plain": [
       "'0x2ccceb0'"
      ]
     },
     "execution_count": 9,
     "metadata": {},
     "output_type": "execute_result"
    }
   ],
   "source": [
    "arr_address=hex(a.__array_interface__['data'][0])\n",
    "arr_address"
   ]
  },
  {
   "cell_type": "markdown",
   "metadata": {
    "slideshow": {
     "slide_type": "fragment"
    }
   },
   "source": [
    "almost anything can be cast into an ndarray, whether it makes sense or not:"
   ]
  },
  {
   "cell_type": "code",
   "execution_count": 10,
   "metadata": {
    "collapsed": false,
    "slideshow": {
     "slide_type": "skip"
    }
   },
   "outputs": [
    {
     "name": "stdout",
     "output_type": "stream",
     "text": [
      "1: data= [None None 1] , dtype=object\n",
      "2: data= ['blahh' '12'] , dtype=<U5\n",
      "3: data= [[   1.+9.j    1.-2.j]\n",
      " [  12.+0.j -100.+0.j]] , dtype=complex128\n",
      "4: data= [<class 'type'> <built-in function array> <class 'list'>] , dtype=object\n"
     ]
    }
   ],
   "source": [
    "a=[None,None,1]\n",
    "b=(\"blahh\",12)\n",
    "c=((((1+9j,1-2j),(12,-100.0))))\n",
    "d=[type,np.array,list]\n",
    "for ii,i in enumerate([a,b,c,d]):\n",
    " x=np.asarray(i)\n",
    " print(\"%d: data=\"%(ii+1),x, \", dtype=%s\"%(x.dtype))"
   ]
  },
  {
   "cell_type": "markdown",
   "metadata": {
    "slideshow": {
     "slide_type": "fragment"
    }
   },
   "source": [
    "Note that most functionality is geared towards numerical arrays. If you often need 'record type' arrays you may want to have a loook at [pandas](http://pandas.pydata.org/pandas-docs/stable/)."
   ]
  },
  {
   "cell_type": "markdown",
   "metadata": {
    "slideshow": {
     "slide_type": "slide"
    }
   },
   "source": [
    "## ndarrays: read access"
   ]
  },
  {
   "cell_type": "markdown",
   "metadata": {
    "slideshow": {
     "slide_type": "fragment"
    }
   },
   "source": [
    "Tuple indexing and slicing of an `ndarray` works in the same way as with normal python lists. The only difference is that tuple indexing of multidimensional ndarrays uses a single square bracket with comma-separated indices. \n",
    "Remember: in Python slices are references!"
   ]
  },
  {
   "cell_type": "code",
   "execution_count": 11,
   "metadata": {
    "collapsed": false,
    "slideshow": {
     "slide_type": "fragment"
    }
   },
   "outputs": [
    {
     "data": {
      "text/plain": [
       "6"
      ]
     },
     "execution_count": 11,
     "metadata": {},
     "output_type": "execute_result"
    }
   ],
   "source": [
    "a=np.array([[1,2,3],[4,5,6],[7,8,9]])\n",
    "a[1,-1]   # tuple indexing in 1 square bracket"
   ]
  },
  {
   "cell_type": "code",
   "execution_count": 12,
   "metadata": {
    "collapsed": false,
    "slideshow": {
     "slide_type": "fragment"
    }
   },
   "outputs": [
    {
     "data": {
      "text/plain": [
       "array([[1, 3],\n",
       "       [4, 6],\n",
       "       [7, 9]])"
      ]
     },
     "execution_count": 12,
     "metadata": {},
     "output_type": "execute_result"
    }
   ],
   "source": [
    "a[:,::2] # every second column"
   ]
  },
  {
   "cell_type": "code",
   "execution_count": null,
   "metadata": {
    "collapsed": false,
    "slideshow": {
     "slide_type": "skip"
    }
   },
   "outputs": [],
   "source": [
    "a[1:3]"
   ]
  },
  {
   "cell_type": "markdown",
   "metadata": {
    "slideshow": {
     "slide_type": "subslide"
    }
   },
   "source": [
    "But an `ndarray` can be accessed also in more sophisticated ways unavailable for python lists:\n",
    "\n",
    "**fancy indexing**"
   ]
  },
  {
   "cell_type": "code",
   "execution_count": 13,
   "metadata": {
    "collapsed": false,
    "slideshow": {
     "slide_type": "fragment"
    }
   },
   "outputs": [
    {
     "data": {
      "text/plain": [
       "array([ 7, 21, 56])"
      ]
     },
     "execution_count": 13,
     "metadata": {},
     "output_type": "execute_result"
    }
   ],
   "source": [
    "a=np.arange(0,77,7)\n",
    "a[[1,3,8]]"
   ]
  },
  {
   "cell_type": "markdown",
   "metadata": {
    "slideshow": {
     "slide_type": "fragment"
    }
   },
   "source": [
    "**using a condition **"
   ]
  },
  {
   "cell_type": "code",
   "execution_count": 14,
   "metadata": {
    "collapsed": false,
    "slideshow": {
     "slide_type": "fragment"
    }
   },
   "outputs": [
    {
     "data": {
      "text/plain": [
       "array([ 0, 21, 42, 63])"
      ]
     },
     "execution_count": 14,
     "metadata": {},
     "output_type": "execute_result"
    }
   ],
   "source": [
    "a[a%3==0]"
   ]
  },
  {
   "cell_type": "markdown",
   "metadata": {
    "slideshow": {
     "slide_type": "fragment"
    }
   },
   "source": [
    "**using a boolean mask**"
   ]
  },
  {
   "cell_type": "code",
   "execution_count": 15,
   "metadata": {
    "collapsed": false,
    "slideshow": {
     "slide_type": "fragment"
    }
   },
   "outputs": [
    {
     "data": {
      "text/plain": [
       "array([ 7, 21, 56])"
      ]
     },
     "execution_count": 15,
     "metadata": {},
     "output_type": "execute_result"
    }
   ],
   "source": [
    "mask=np.array([0,1,0,1,0,0,0,0,1,0,0],dtype=bool)\n",
    "a[mask]"
   ]
  },
  {
   "cell_type": "markdown",
   "metadata": {
    "slideshow": {
     "slide_type": "subslide"
    }
   },
   "source": [
    "**using an index array**\n",
    "\n",
    "Index arrays can be created e.g. by the `where()` function:"
   ]
  },
  {
   "cell_type": "code",
   "execution_count": 16,
   "metadata": {
    "collapsed": false,
    "slideshow": {
     "slide_type": "fragment"
    }
   },
   "outputs": [
    {
     "name": "stdout",
     "output_type": "stream",
     "text": [
      "(array([0, 3, 6, 9]),)\n"
     ]
    }
   ],
   "source": [
    "div_by_three=np.where(a%3==0)\n",
    "print(div_by_three)"
   ]
  },
  {
   "cell_type": "markdown",
   "metadata": {
    "slideshow": {
     "slide_type": "fragment"
    }
   },
   "source": [
    "...and then be used for fancy indexing:"
   ]
  },
  {
   "cell_type": "code",
   "execution_count": 17,
   "metadata": {
    "collapsed": false,
    "slideshow": {
     "slide_type": "fragment"
    }
   },
   "outputs": [
    {
     "data": {
      "text/plain": [
       "array([ 0, 21, 42, 63])"
      ]
     },
     "execution_count": 17,
     "metadata": {},
     "output_type": "execute_result"
    }
   ],
   "source": [
    "a[div_by_three]"
   ]
  },
  {
   "cell_type": "markdown",
   "metadata": {
    "slideshow": {
     "slide_type": "fragment"
    }
   },
   "source": [
    "A typical use case for this is accessing a second array (of the same dimensions) based on a condition on the first array."
   ]
  },
  {
   "cell_type": "markdown",
   "metadata": {
    "slideshow": {
     "slide_type": "slide"
    }
   },
   "source": [
    "## ndarrays: write access"
   ]
  },
  {
   "cell_type": "markdown",
   "metadata": {
    "slideshow": {
     "slide_type": "fragment"
    }
   },
   "source": [
    "As slices (including single cells) are references, values can be directly assigned to them.\n",
    "Alternatively they can be filled with `fill()`."
   ]
  },
  {
   "cell_type": "code",
   "execution_count": 18,
   "metadata": {
    "collapsed": false,
    "slideshow": {
     "slide_type": "fragment"
    }
   },
   "outputs": [
    {
     "data": {
      "text/plain": [
       "array([[1, 2, 3],\n",
       "       [4, 0, 0]])"
      ]
     },
     "execution_count": 18,
     "metadata": {},
     "output_type": "execute_result"
    }
   ],
   "source": [
    "a=np.array([[1,2,3],[4,5,6]])\n",
    "a[1,1:]=0\n",
    "a"
   ]
  },
  {
   "cell_type": "code",
   "execution_count": 19,
   "metadata": {
    "collapsed": false,
    "slideshow": {
     "slide_type": "skip"
    }
   },
   "outputs": [
    {
     "name": "stdout",
     "output_type": "stream",
     "text": [
      "[[2 2 2]\n",
      " [2 2 2]]\n",
      "int64\n"
     ]
    }
   ],
   "source": [
    "a.fill(2.5)   # same as a[:]=2.5\n",
    "print(a) \n",
    "print(a.dtype)"
   ]
  },
  {
   "cell_type": "markdown",
   "metadata": {
    "slideshow": {
     "slide_type": "skip"
    }
   },
   "source": [
    "Oops! This is NumPy not Python: type coercion, again!"
   ]
  },
  {
   "cell_type": "markdown",
   "metadata": {
    "slideshow": {
     "slide_type": "slide"
    }
   },
   "source": [
    "## ndarrays: shape shifting"
   ]
  },
  {
   "cell_type": "markdown",
   "metadata": {
    "slideshow": {
     "slide_type": "fragment"
    }
   },
   "source": [
    "For efficient handling of multidimensional arrays it is important to distinguish between memory layout and access patterns.\n",
    "The current access pattern is stored in the `strides` property. NumPy provides a range of methods to manipulate views on `ndarrays`:\n",
    "<table>\n",
    "<tr><td> `a.transpose()` or `a.T`</td><td> inverts the strides</td></tr>\n",
    "<tr><td> `a.flatten()`</td><td>            creates a 1d copy </td></tr>\n",
    "<tr><td> `a.flat`</td><td>                 is a 1d iterator on `a`</td></tr>\n",
    "<tr><td> `a.ravel()`</td><td>              creates a view. A view is a reference *iff* its source is contiguous in memory.</td></tr>\n",
    "<tr><td> `np.newaxis`</td><td>             a special index to add an empty dimension</td></tr>\n",
    "<tr><td> `a.squeeze()`</td><td>               removes all empty dimensions</td></tr>\n",
    "<tr><td> `a.reshape`</td><td>             explicit shape definition, max one dimension can be guessed (enter `-1`)</td></tr>\n",
    "<tr><td> `a.swapaxes()`</td><td>               swaps two axis of the `ndarray`</td></tr>\n",
    "</table>"
   ]
  },
  {
   "cell_type": "code",
   "execution_count": 20,
   "metadata": {
    "collapsed": false,
    "slideshow": {
     "slide_type": "fragment"
    }
   },
   "outputs": [
    {
     "data": {
      "text/plain": [
       "(24, 8)"
      ]
     },
     "execution_count": 20,
     "metadata": {},
     "output_type": "execute_result"
    }
   ],
   "source": [
    "a=np.array([[1,2,3],[4,5,6]])\n",
    "a.strides"
   ]
  },
  {
   "cell_type": "code",
   "execution_count": 21,
   "metadata": {
    "collapsed": false,
    "slideshow": {
     "slide_type": "skip"
    }
   },
   "outputs": [
    {
     "name": "stdout",
     "output_type": "stream",
     "text": [
      "[[0 4]\n",
      " [2 5]\n",
      " [3 6]]\n",
      "(8, 24)\n"
     ]
    }
   ],
   "source": [
    "b=a.T\n",
    "b[0,0]=0\n",
    "print(b)\n",
    "print(b.strides)"
   ]
  },
  {
   "cell_type": "code",
   "execution_count": 22,
   "metadata": {
    "collapsed": false,
    "slideshow": {
     "slide_type": "notes"
    }
   },
   "outputs": [
    {
     "data": {
      "text/plain": [
       "array([[0, 2, 3],\n",
       "       [4, 5, 6]])"
      ]
     },
     "execution_count": 22,
     "metadata": {},
     "output_type": "execute_result"
    }
   ],
   "source": [
    "a # a view is a reference, strides may be changed"
   ]
  },
  {
   "cell_type": "code",
   "execution_count": 23,
   "metadata": {
    "collapsed": false,
    "slideshow": {
     "slide_type": "skip"
    }
   },
   "outputs": [
    {
     "data": {
      "text/plain": [
       "array([1, 2, 3, 4, 5, 6])"
      ]
     },
     "execution_count": 23,
     "metadata": {},
     "output_type": "execute_result"
    }
   ],
   "source": [
    "a=np.array([[1,2,3],[4,5,6]])\n",
    "c=a.flatten()\n",
    "c"
   ]
  },
  {
   "cell_type": "code",
   "execution_count": 24,
   "metadata": {
    "collapsed": false,
    "slideshow": {
     "slide_type": "skip"
    }
   },
   "outputs": [
    {
     "data": {
      "text/plain": [
       "21"
      ]
     },
     "execution_count": 24,
     "metadata": {},
     "output_type": "execute_result"
    }
   ],
   "source": [
    "sum(a.flat)"
   ]
  },
  {
   "cell_type": "code",
   "execution_count": 25,
   "metadata": {
    "collapsed": false,
    "slideshow": {
     "slide_type": "skip"
    }
   },
   "outputs": [
    {
     "data": {
      "text/plain": [
       "array([0, 2, 3])"
      ]
     },
     "execution_count": 25,
     "metadata": {},
     "output_type": "execute_result"
    }
   ],
   "source": [
    "c=a.ravel() # reference!\n",
    "c[0]=0\n",
    "a[0]"
   ]
  },
  {
   "cell_type": "code",
   "execution_count": 26,
   "metadata": {
    "collapsed": false,
    "slideshow": {
     "slide_type": "skip"
    }
   },
   "outputs": [
    {
     "data": {
      "text/plain": [
       "array([1, 4])"
      ]
     },
     "execution_count": 26,
     "metadata": {},
     "output_type": "execute_result"
    }
   ],
   "source": [
    "a=np.array([[1,2,3],[4,5,6]])\n",
    "a_t=a.T # a_t is no longer contiguous in memory\n",
    "d=a_t.ravel() # copy!\n",
    "d[0]=0\n",
    "a_t[0]"
   ]
  },
  {
   "cell_type": "code",
   "execution_count": 27,
   "metadata": {
    "collapsed": false,
    "slideshow": {
     "slide_type": "skip"
    }
   },
   "outputs": [
    {
     "data": {
      "text/plain": [
       "array([[[1]],\n",
       "\n",
       "       [[2]],\n",
       "\n",
       "       [[3]]])"
      ]
     },
     "execution_count": 27,
     "metadata": {},
     "output_type": "execute_result"
    }
   ],
   "source": [
    "a=np.array([1,2,3]) # 1d-array, shape=(3, )\n",
    "b=a[:,np.newaxis,np.newaxis]\n",
    "b  #3d-array, shape==(3,1,1)"
   ]
  },
  {
   "cell_type": "code",
   "execution_count": 30,
   "metadata": {
    "collapsed": false,
    "slideshow": {
     "slide_type": "skip"
    }
   },
   "outputs": [
    {
     "data": {
      "text/plain": [
       "array([[[1, 2, 3]]])"
      ]
     },
     "execution_count": 30,
     "metadata": {},
     "output_type": "execute_result"
    }
   ],
   "source": [
    "c=a[np.newaxis,np.newaxis,:]\n",
    "c #3d-array, shape==(1,1,3)"
   ]
  },
  {
   "cell_type": "code",
   "execution_count": 31,
   "metadata": {
    "collapsed": false,
    "slideshow": {
     "slide_type": "skip"
    }
   },
   "outputs": [
    {
     "data": {
      "text/plain": [
       "array([1, 2, 3])"
      ]
     },
     "execution_count": 31,
     "metadata": {},
     "output_type": "execute_result"
    }
   ],
   "source": [
    "b.squeeze()"
   ]
  },
  {
   "cell_type": "code",
   "execution_count": 32,
   "metadata": {
    "collapsed": false,
    "slideshow": {
     "slide_type": "fragment"
    }
   },
   "outputs": [
    {
     "data": {
      "text/plain": [
       "array([[[ 0,  1,  2],\n",
       "        [ 3,  4,  5],\n",
       "        [ 6,  7,  8]],\n",
       "\n",
       "       [[ 9, 10, 11],\n",
       "        [12, 13, 14],\n",
       "        [15, 16, 17]],\n",
       "\n",
       "       [[18, 19, 20],\n",
       "        [21, 22, 23],\n",
       "        [24, 25, 26]]])"
      ]
     },
     "execution_count": 32,
     "metadata": {},
     "output_type": "execute_result"
    }
   ],
   "source": [
    "d=np.arange(27).reshape(3,-1,3); d"
   ]
  },
  {
   "cell_type": "code",
   "execution_count": 33,
   "metadata": {
    "collapsed": false,
    "slideshow": {
     "slide_type": "skip"
    }
   },
   "outputs": [
    {
     "data": {
      "text/plain": [
       "array([[[ 0,  9, 18],\n",
       "        [ 3, 12, 21],\n",
       "        [ 6, 15, 24]],\n",
       "\n",
       "       [[ 1, 10, 19],\n",
       "        [ 4, 13, 22],\n",
       "        [ 7, 16, 25]],\n",
       "\n",
       "       [[ 2, 11, 20],\n",
       "        [ 5, 14, 23],\n",
       "        [ 8, 17, 26]]])"
      ]
     },
     "execution_count": 33,
     "metadata": {},
     "output_type": "execute_result"
    }
   ],
   "source": [
    "d.swapaxes(0,2)"
   ]
  },
  {
   "cell_type": "markdown",
   "metadata": {
    "slideshow": {
     "slide_type": "slide"
    }
   },
   "source": [
    "## ndarrays: more on creation"
   ]
  },
  {
   "cell_type": "markdown",
   "metadata": {
    "slideshow": {
     "slide_type": "fragment"
    }
   },
   "source": [
    "NumPy has several convenience functions to create ndarrays with data like:\n",
    "\n",
    "<table>\n",
    "<tr><td> `zeros()`</td><td>\t\t0-filled array</td></tr>\n",
    "<tr><td> `identity()`</td><td>\tsquare 0-filled array, main diagonal=1</td></tr>\n",
    "<tr><td> `asarray()`</td><td>\tfrom list, tuple and their combinations</td></tr>\n",
    "<tr><td> `fromiter()`</td><td>\tfrom iterator</td></tr>\n",
    "<tr><td> `fromfunction()`</td><td> from function evaluated on array positions</td></tr>\n",
    "<tr><td> `diag()`</td><td>\t\tlike identity but diagonal given as vector </td></tr>\n",
    "</table>"
   ]
  },
  {
   "cell_type": "markdown",
   "metadata": {
    "slideshow": {
     "slide_type": "fragment"
    }
   },
   "source": [
    "Often the data to fill ndarrays reside in files. `loadtext()` provides minimal file parsing for normal and gzip'd text files.\n",
    "Its counterpart is `savetxt()`."
   ]
  },
  {
   "cell_type": "code",
   "execution_count": 35,
   "metadata": {
    "collapsed": false,
    "slideshow": {
     "slide_type": "skip"
    }
   },
   "outputs": [
    {
     "name": "stdout",
     "output_type": "stream",
     "text": [
      "////       This and the next line are headers\r\n",
      "Name            income          rev_q1  rev_q2  rev_q3  rev_q4\r\n",
      "larry,          200,            0,      1.5,    2.8,    0.2\r\n",
      "bill,           1000,           12.5,   15,     18,     33.4\r\n",
      "steve,          5600,           128,    40,     0,      0\r\n"
     ]
    }
   ],
   "source": [
    "cat 'test.dat'"
   ]
  },
  {
   "cell_type": "code",
   "execution_count": 36,
   "metadata": {
    "collapsed": false,
    "slideshow": {
     "slide_type": "fragment"
    }
   },
   "outputs": [
    {
     "data": {
      "text/plain": [
       "array([[  2.00000000e+02,   0.00000000e+00,   1.50000000e+00,\n",
       "          2.79999995e+00,   2.00000003e-01],\n",
       "       [  1.00000000e+03,   1.25000000e+01,   1.50000000e+01,\n",
       "          1.80000000e+01,   3.34000015e+01],\n",
       "       [  5.60000000e+03,   1.28000000e+02,   4.00000000e+01,\n",
       "          0.00000000e+00,   0.00000000e+00]], dtype=float32)"
      ]
     },
     "execution_count": 36,
     "metadata": {},
     "output_type": "execute_result"
    }
   ],
   "source": [
    "np.loadtxt('test.dat',dtype=np.float32, skiprows=2, delimiter=',' ,usecols=[1,2,3,4,5])"
   ]
  },
  {
   "cell_type": "code",
   "execution_count": 37,
   "metadata": {
    "collapsed": false,
    "slideshow": {
     "slide_type": "skip"
    }
   },
   "outputs": [
    {
     "data": {
      "text/plain": [
       "array([(b'larry', 200, (0.0, 1.5, 2.799999952316284, 0.20000000298023224)),\n",
       "       (b'bill', 1000, (12.5, 15.0, 18.0, 33.400001525878906)),\n",
       "       (b'steve', 5600, (128.0, 40.0, 0.0, 0.0))], \n",
       "      dtype=[('name', 'S10'), ('income', '<i2'), ('revenue', [('q1', '<f4'), ('q2', '<f4'), ('q3', '<f4'), ('q4', '<f4')])])"
      ]
     },
     "execution_count": 37,
     "metadata": {},
     "output_type": "execute_result"
    }
   ],
   "source": [
    "dt=np.dtype([('name','S10'),('income',np.int16),\\\n",
    "             ('revenue',([('q1',np.float32),('q2',np.float32),('q3',np.float32),('q4',np.float32)]))])\n",
    "np.loadtxt('test.dat',dtype=dt, skiprows=2,delimiter=',')"
   ]
  },
  {
   "cell_type": "code",
   "execution_count": 38,
   "metadata": {
    "collapsed": false,
    "slideshow": {
     "slide_type": "skip"
    }
   },
   "outputs": [
    {
     "name": "stdout",
     "output_type": "stream",
     "text": [
      "  0.0,  0.5,  1.0,  1.5,  2.0\r\n",
      "  2.5,  3.0,  3.5,  4.0,  4.5\r\n",
      "  5.0,  5.5,  6.0,  6.5,  7.0\r\n",
      "  7.5,  8.0,  8.5,  9.0,  9.5\r\n",
      " 10.0, 10.5, 11.0, 11.5, 12.0\r\n",
      " 12.5, 13.0, 13.5, 14.0, 14.5\r\n",
      " 15.0, 15.5, 16.0, 16.5, 17.0\r\n",
      " 17.5, 18.0, 18.5, 19.0, 19.5\r\n",
      " 20.0, 20.5, 21.0, 21.5, 22.0\r\n",
      " 22.5, 23.0, 23.5, 24.0, 24.5\r\n",
      " 25.0, 25.5, 26.0, 26.5, 27.0\r\n",
      " 27.5, 28.0, 28.5, 29.0, 29.5\r\n",
      " 30.0, 30.5, 31.0, 31.5, 32.0\r\n",
      " 32.5, 33.0, 33.5, 34.0, 34.5\r\n",
      " 35.0, 35.5, 36.0, 36.5, 37.0\r\n",
      " 37.5, 38.0, 38.5, 39.0, 39.5\r\n"
     ]
    }
   ],
   "source": [
    "a=np.arange(0,40,0.5)\n",
    "np.savetxt(\"mydata.txt\",a.reshape(-1,5),fmt=\"%5.1f\",delimiter=\",\")  # reshaping into 5 columns\n",
    "!cat 'mydata.txt'"
   ]
  },
  {
   "cell_type": "markdown",
   "metadata": {},
   "source": [
    "NumPy also provides file I/O functions for binary formats, including NumPy's own proprietary formats:\n",
    "\n",
    "* **`fromfile(), tofile()`** for binary or text format\n",
    "* **`save(), load()`** for binary NumPy \"npy\"-format\n",
    "* **`savez(), load()`** for binary NumPy \"npz\"-container format\n",
    "* **`genfromtxt()`** like `loadtxt()` but w. more options, checks etc.\n",
    "\n",
    "For \"big data\", however, you should have a look on external python libraries to access HDF5 or netCDF files."
   ]
  },
  {
   "cell_type": "markdown",
   "metadata": {
    "slideshow": {
     "slide_type": "slide"
    }
   },
   "source": [
    "## Working with ndarrays: elementwise operations"
   ]
  },
  {
   "cell_type": "markdown",
   "metadata": {
    "slideshow": {
     "slide_type": "fragment"
    }
   },
   "source": [
    "Elementwise operations of NumPy are one of the main reasons why NumPy is much faster than Python. They can often replace loops (or list comprehensions) and thereby vectorize your code."
   ]
  },
  {
   "cell_type": "code",
   "execution_count": 39,
   "metadata": {
    "collapsed": false,
    "slideshow": {
     "slide_type": "fragment"
    }
   },
   "outputs": [
    {
     "name": "stdout",
     "output_type": "stream",
     "text": [
      "10 loops, best of 3: 79.1 ms per loop\n"
     ]
    }
   ],
   "source": [
    "l = range(1000000)  # python\n",
    "%timeit [i+1 for i in l]  "
   ]
  },
  {
   "cell_type": "code",
   "execution_count": 40,
   "metadata": {
    "collapsed": false,
    "slideshow": {
     "slide_type": "fragment"
    }
   },
   "outputs": [
    {
     "name": "stdout",
     "output_type": "stream",
     "text": [
      "1000 loops, best of 3: 1.31 ms per loop\n"
     ]
    }
   ],
   "source": [
    "a = np.arange(1000000) # NumPy\n",
    "%timeit a + 1"
   ]
  },
  {
   "cell_type": "markdown",
   "metadata": {
    "slideshow": {
     "slide_type": "slide"
    }
   },
   "source": [
    "## Working with ndarrays: ufuncs"
   ]
  },
  {
   "cell_type": "markdown",
   "metadata": {
    "slideshow": {
     "slide_type": "fragment"
    }
   },
   "source": [
    "For more complex arithmetic operations NumPy provides `ufunc`s. These are vectorized wrappers for scalar functions, i.e. they also process arrays elementwise. There are about 80 ufuncs available. http://docs.scipy.org/doc/numpy/reference/ufuncs.html#available-ufuncs"
   ]
  },
  {
   "cell_type": "code",
   "execution_count": 41,
   "metadata": {
    "collapsed": false,
    "slideshow": {
     "slide_type": "skip"
    }
   },
   "outputs": [],
   "source": [
    "from math import pow as pypow, sinh as pysinh\n",
    "a=np.random.random(1000000)\n",
    "b=np.random.random(1000000)\n",
    "c=a.tolist()\n",
    "d=b.tolist()"
   ]
  },
  {
   "cell_type": "markdown",
   "metadata": {
    "slideshow": {
     "slide_type": "skip"
    }
   },
   "source": [
    "**Python:**"
   ]
  },
  {
   "cell_type": "code",
   "execution_count": 42,
   "metadata": {
    "collapsed": false,
    "slideshow": {
     "slide_type": "skip"
    }
   },
   "outputs": [
    {
     "name": "stdout",
     "output_type": "stream",
     "text": [
      "10 loops, best of 3: 113 ms per loop\n"
     ]
    }
   ],
   "source": [
    "%timeit [pysinh(i) for i in c]"
   ]
  },
  {
   "cell_type": "code",
   "execution_count": 43,
   "metadata": {
    "collapsed": false,
    "slideshow": {
     "slide_type": "skip"
    }
   },
   "outputs": [
    {
     "name": "stdout",
     "output_type": "stream",
     "text": [
      "1 loop, best of 3: 211 ms per loop\n"
     ]
    }
   ],
   "source": [
    "%timeit [pypow(i,j) for i,j in zip(c,d)]"
   ]
  },
  {
   "cell_type": "markdown",
   "metadata": {
    "slideshow": {
     "slide_type": "skip"
    }
   },
   "source": [
    "**NumPy:**"
   ]
  },
  {
   "cell_type": "code",
   "execution_count": 44,
   "metadata": {
    "collapsed": false,
    "slideshow": {
     "slide_type": "skip"
    }
   },
   "outputs": [
    {
     "name": "stdout",
     "output_type": "stream",
     "text": [
      "10 loops, best of 3: 24 ms per loop\n"
     ]
    }
   ],
   "source": [
    "%timeit np.sinh(a)"
   ]
  },
  {
   "cell_type": "code",
   "execution_count": 45,
   "metadata": {
    "collapsed": false,
    "slideshow": {
     "slide_type": "skip"
    }
   },
   "outputs": [
    {
     "name": "stdout",
     "output_type": "stream",
     "text": [
      "10 loops, best of 3: 63.7 ms per loop\n"
     ]
    }
   ],
   "source": [
    "%timeit np.power(a,b)"
   ]
  },
  {
   "cell_type": "markdown",
   "metadata": {
    "slideshow": {
     "slide_type": "fragment"
    }
   },
   "source": [
    "### ufuncs: broadcasting"
   ]
  },
  {
   "cell_type": "markdown",
   "metadata": {
    "slideshow": {
     "slide_type": "fragment"
    }
   },
   "source": [
    "Working with two or more arrays typically require these to have the same number of dimensions. To avoid having to use  `np.newaxis` where it can be inferred, there is an implicit mechanism for upcasting the dimensionality of an `ndarray` called broadcasting. For a nice illustration what happens in broadcasting, look [here](https://scipy-lectures.github.io/intro/numpy/operations.html#broadcasting)."
   ]
  },
  {
   "cell_type": "code",
   "execution_count": 48,
   "metadata": {
    "collapsed": false,
    "slideshow": {
     "slide_type": "fragment"
    }
   },
   "outputs": [
    {
     "data": {
      "text/plain": [
       "array([[ 4.,  5.,  6.],\n",
       "       [ 1.,  5.,  3.]])"
      ]
     },
     "execution_count": 48,
     "metadata": {},
     "output_type": "execute_result"
    }
   ],
   "source": [
    "a=np.array([[4.,2.,6.],[1.,2.,3.]])\n",
    "b=np.array([1.,5.,3.]) # will be broadcasted to 2d-array: array([[1.,5.,3.],[1.,5.,3.]])\n",
    "np.maximum(a,b)"
   ]
  },
  {
   "cell_type": "markdown",
   "metadata": {
    "slideshow": {
     "slide_type": "fragment"
    }
   },
   "source": [
    "* the output shape is the maximum shape for each of the dimensions occurring in the inputs\n",
    "* values are repeated from the values of axis "
   ]
  },
  {
   "cell_type": "markdown",
   "metadata": {
    "slideshow": {
     "slide_type": "subslide"
    }
   },
   "source": [
    "### ufuncs: collective methods"
   ]
  },
  {
   "cell_type": "markdown",
   "metadata": {
    "slideshow": {
     "slide_type": "fragment"
    }
   },
   "source": [
    "`ufunc`s support the following collective methods:\n",
    "* **_op_`.reduce()`**     apply `ufunc` _op_ along one axis (output dim=input dim -1)\n",
    "* **_op_`.accumulate()`** same but with intermediate results\n",
    "* **_op_`.reduceat()`** reduce on specific slices\n",
    "* **_op_`.outer()`** combinatoric application of `ufunc` _op_"
   ]
  },
  {
   "cell_type": "code",
   "execution_count": 49,
   "metadata": {
    "collapsed": false,
    "slideshow": {
     "slide_type": "fragment"
    }
   },
   "outputs": [
    {
     "data": {
      "text/plain": [
       "array([ 5.,  7.,  9.])"
      ]
     },
     "execution_count": 49,
     "metadata": {},
     "output_type": "execute_result"
    }
   ],
   "source": [
    "a=np.array([[1.,2.,3.],[4.,5.,6.]])\n",
    "np.add.reduce(a)"
   ]
  },
  {
   "cell_type": "code",
   "execution_count": 50,
   "metadata": {
    "collapsed": false,
    "slideshow": {
     "slide_type": "skip"
    }
   },
   "outputs": [
    {
     "data": {
      "text/plain": [
       "array([  6.,  15.])"
      ]
     },
     "execution_count": 50,
     "metadata": {},
     "output_type": "execute_result"
    }
   ],
   "source": [
    "np.add.reduce(a,axis=1)"
   ]
  },
  {
   "cell_type": "code",
   "execution_count": 51,
   "metadata": {
    "collapsed": false,
    "slideshow": {
     "slide_type": "skip"
    }
   },
   "outputs": [
    {
     "data": {
      "text/plain": [
       "array([[  1.,   3.,   6.],\n",
       "       [  4.,   9.,  15.]])"
      ]
     },
     "execution_count": 51,
     "metadata": {},
     "output_type": "execute_result"
    }
   ],
   "source": [
    "np.add.accumulate(a, axis=1)"
   ]
  },
  {
   "cell_type": "markdown",
   "metadata": {
    "slideshow": {
     "slide_type": "slide"
    }
   },
   "source": [
    "## vectorize and vectorize"
   ]
  },
  {
   "cell_type": "code",
   "execution_count": 52,
   "metadata": {
    "collapsed": true,
    "slideshow": {
     "slide_type": "skip"
    }
   },
   "outputs": [],
   "source": [
    "a=np.random.random(1000000)\n",
    "al=a.tolist()"
   ]
  },
  {
   "cell_type": "code",
   "execution_count": 53,
   "metadata": {
    "collapsed": false,
    "slideshow": {
     "slide_type": "skip"
    }
   },
   "outputs": [
    {
     "name": "stdout",
     "output_type": "stream",
     "text": [
      "10 loops, best of 3: 24.1 ms per loop\n"
     ]
    }
   ],
   "source": [
    "%timeit np.sinh(a)"
   ]
  },
  {
   "cell_type": "code",
   "execution_count": 54,
   "metadata": {
    "collapsed": true,
    "slideshow": {
     "slide_type": "skip"
    }
   },
   "outputs": [],
   "source": [
    "from math import pow as pypow, sinh as pysinh"
   ]
  },
  {
   "cell_type": "code",
   "execution_count": 55,
   "metadata": {
    "collapsed": false,
    "slideshow": {
     "slide_type": "skip"
    }
   },
   "outputs": [
    {
     "name": "stdout",
     "output_type": "stream",
     "text": [
      "10 loops, best of 3: 112 ms per loop\n"
     ]
    }
   ],
   "source": [
    "%timeit [pysinh(i) for i in al]"
   ]
  },
  {
   "cell_type": "code",
   "execution_count": 56,
   "metadata": {
    "collapsed": true,
    "slideshow": {
     "slide_type": "skip"
    }
   },
   "outputs": [],
   "source": [
    "b=np.random.random(1000000)\n",
    "bl=b.tolist()"
   ]
  },
  {
   "cell_type": "code",
   "execution_count": 57,
   "metadata": {
    "collapsed": false,
    "slideshow": {
     "slide_type": "skip"
    }
   },
   "outputs": [
    {
     "name": "stdout",
     "output_type": "stream",
     "text": [
      "1 loop, best of 3: 206 ms per loop\n"
     ]
    }
   ],
   "source": [
    "%timeit [pypow(i,j) for i,j in zip(al,bl)]"
   ]
  },
  {
   "cell_type": "code",
   "execution_count": 58,
   "metadata": {
    "collapsed": false,
    "slideshow": {
     "slide_type": "skip"
    }
   },
   "outputs": [
    {
     "name": "stdout",
     "output_type": "stream",
     "text": [
      "10 loops, best of 3: 63.3 ms per loop\n"
     ]
    }
   ],
   "source": [
    "%timeit np.power(a,b)"
   ]
  },
  {
   "cell_type": "markdown",
   "metadata": {
    "slideshow": {
     "slide_type": "fragment"
    }
   },
   "source": [
    "[Numba](http://numba.pydata.org/) offers a decorator `@vectorize` that allows us to generate fast ufuncs. The decorator takes a list of type specifications of the form `f8(f8, f8)`, where the type before the parentheses is the return type and the types within the parentheses are the argument types."
   ]
  },
  {
   "cell_type": "code",
   "execution_count": 59,
   "metadata": {
    "collapsed": false,
    "slideshow": {
     "slide_type": "fragment"
    }
   },
   "outputs": [],
   "source": [
    "from numba import vectorize\n",
    "import math"
   ]
  },
  {
   "cell_type": "code",
   "execution_count": 60,
   "metadata": {
    "collapsed": true,
    "slideshow": {
     "slide_type": "skip"
    }
   },
   "outputs": [],
   "source": [
    "@vectorize(['f8(f8)','f4(f4)'])\n",
    "def mysinh(x):\n",
    "    return pysinh(x)"
   ]
  },
  {
   "cell_type": "code",
   "execution_count": 61,
   "metadata": {
    "collapsed": false,
    "slideshow": {
     "slide_type": "skip"
    }
   },
   "outputs": [
    {
     "name": "stdout",
     "output_type": "stream",
     "text": [
      "10 loops, best of 3: 23.9 ms per loop\n"
     ]
    }
   ],
   "source": [
    "%timeit mysinh(a)"
   ]
  },
  {
   "cell_type": "markdown",
   "metadata": {
    "slideshow": {
     "slide_type": "fragment"
    }
   },
   "source": [
    "Use vectorize to make your favorite function into a ufunc."
   ]
  },
  {
   "cell_type": "code",
   "execution_count": 62,
   "metadata": {
    "collapsed": true,
    "slideshow": {
     "slide_type": "fragment"
    }
   },
   "outputs": [],
   "source": [
    "def my_function(i):\n",
    "    if i!=0:\n",
    "        return 2.718281**(-1./(i*i))\n",
    "    else:\n",
    "        return 0"
   ]
  },
  {
   "cell_type": "code",
   "execution_count": 63,
   "metadata": {
    "collapsed": false,
    "slideshow": {
     "slide_type": "skip"
    }
   },
   "outputs": [
    {
     "name": "stdout",
     "output_type": "stream",
     "text": [
      "1 loop, best of 3: 301 ms per loop\n"
     ]
    }
   ],
   "source": [
    "al=a.tolist()\n",
    "%timeit [my_function(x) for x in al]"
   ]
  },
  {
   "cell_type": "markdown",
   "metadata": {
    "slideshow": {
     "slide_type": "skip"
    }
   },
   "source": [
    "There is also a vectorize function in numpy:"
   ]
  },
  {
   "cell_type": "code",
   "execution_count": 64,
   "metadata": {
    "collapsed": false,
    "slideshow": {
     "slide_type": "skip"
    }
   },
   "outputs": [
    {
     "name": "stdout",
     "output_type": "stream",
     "text": [
      "1 loop, best of 3: 355 ms per loop\n"
     ]
    }
   ],
   "source": [
    "v_func=np.vectorize(my_function)\n",
    "\n",
    "%timeit v_func(a)"
   ]
  },
  {
   "cell_type": "code",
   "execution_count": 65,
   "metadata": {
    "collapsed": false,
    "slideshow": {
     "slide_type": "fragment"
    }
   },
   "outputs": [
    {
     "name": "stdout",
     "output_type": "stream",
     "text": [
      "10 loops, best of 3: 60.2 ms per loop\n"
     ]
    }
   ],
   "source": [
    "nb_my_function = vectorize(['f8(f8)','f4(f4)'])(my_function)\n",
    "\n",
    "%timeit nb_my_function(a)"
   ]
  },
  {
   "cell_type": "markdown",
   "metadata": {
    "slideshow": {
     "slide_type": "fragment"
    }
   },
   "source": [
    "Don't confuse np.vectorize (which is only a convenient wrapper) with Numba's vectorize function:"
   ]
  },
  {
   "cell_type": "markdown",
   "metadata": {
    "slideshow": {
     "slide_type": "skip"
    }
   },
   "source": [
    "## ... to be continued"
   ]
  },
  {
   "cell_type": "code",
   "execution_count": 47,
   "metadata": {
    "collapsed": false
   },
   "outputs": [
    {
     "name": "stdout",
     "output_type": "stream",
     "text": [
      "lapack_opt_info:\n",
      "    libraries = ['mkl_lapack95_lp64', 'mkl_intel_lp64', 'mkl_intel_thread', 'mkl_core', 'iomp5', 'pthread']\n",
      "    define_macros = [('SCIPY_MKL_H', None), ('HAVE_CBLAS', None)]\n",
      "    library_dirs = ['/home/scpy/miniconda/envs/hpcpy3/lib']\n",
      "    include_dirs = ['/home/scpy/miniconda/envs/hpcpy3/include']\n",
      "openblas_lapack_info:\n",
      "  NOT AVAILABLE\n",
      "lapack_mkl_info:\n",
      "    libraries = ['mkl_lapack95_lp64', 'mkl_intel_lp64', 'mkl_intel_thread', 'mkl_core', 'iomp5', 'pthread']\n",
      "    define_macros = [('SCIPY_MKL_H', None), ('HAVE_CBLAS', None)]\n",
      "    library_dirs = ['/home/scpy/miniconda/envs/hpcpy3/lib']\n",
      "    include_dirs = ['/home/scpy/miniconda/envs/hpcpy3/include']\n",
      "blas_mkl_info:\n",
      "    libraries = ['mkl_intel_lp64', 'mkl_intel_thread', 'mkl_core', 'iomp5', 'pthread']\n",
      "    define_macros = [('SCIPY_MKL_H', None), ('HAVE_CBLAS', None)]\n",
      "    library_dirs = ['/home/scpy/miniconda/envs/hpcpy3/lib']\n",
      "    include_dirs = ['/home/scpy/miniconda/envs/hpcpy3/include']\n",
      "mkl_info:\n",
      "    libraries = ['mkl_intel_lp64', 'mkl_intel_thread', 'mkl_core', 'iomp5', 'pthread']\n",
      "    define_macros = [('SCIPY_MKL_H', None), ('HAVE_CBLAS', None)]\n",
      "    library_dirs = ['/home/scpy/miniconda/envs/hpcpy3/lib']\n",
      "    include_dirs = ['/home/scpy/miniconda/envs/hpcpy3/include']\n",
      "blas_opt_info:\n",
      "    libraries = ['mkl_intel_lp64', 'mkl_intel_thread', 'mkl_core', 'iomp5', 'pthread']\n",
      "    define_macros = [('SCIPY_MKL_H', None), ('HAVE_CBLAS', None)]\n",
      "    library_dirs = ['/home/scpy/miniconda/envs/hpcpy3/lib']\n",
      "    include_dirs = ['/home/scpy/miniconda/envs/hpcpy3/include']\n"
     ]
    }
   ],
   "source": [
    "np.__config__.show()"
   ]
  },
  {
   "cell_type": "code",
   "execution_count": null,
   "metadata": {
    "collapsed": true
   },
   "outputs": [],
   "source": []
  }
 ],
 "metadata": {
  "kernelspec": {
   "display_name": "Python 3",
   "language": "python",
   "name": "python3"
  },
  "language_info": {
   "codemirror_mode": {
    "name": "ipython",
    "version": 3
   },
   "file_extension": ".py",
   "mimetype": "text/x-python",
   "name": "python",
   "nbconvert_exporter": "python",
   "pygments_lexer": "ipython3",
   "version": "3.5.1"
  }
 },
 "nbformat": 4,
 "nbformat_minor": 0
}
